{
  "nbformat": 4,
  "nbformat_minor": 0,
  "metadata": {
    "colab": {
      "provenance": [],
      "include_colab_link": true
    },
    "kernelspec": {
      "name": "python3",
      "display_name": "Python 3"
    },
    "language_info": {
      "name": "python"
    }
  },
  "cells": [
    {
      "cell_type": "markdown",
      "metadata": {
        "id": "view-in-github",
        "colab_type": "text"
      },
      "source": [
        "<a href=\"https://colab.research.google.com/github/NCcreate/Prmn2023a/blob/main/my_answer/PythonBasic_4_Question.ipynb\" target=\"_parent\"><img src=\"https://colab.research.google.com/assets/colab-badge.svg\" alt=\"Open In Colab\"/></a>"
      ]
    },
    {
      "cell_type": "markdown",
      "source": [
        "<a href=\"https://colab.research.google.com/github/kiryu-3/Prmn2023/blob/main/Python/Python_Basic/question/PythonBasic_4_Question.ipynb\" target=\"_parent\"><img src=\"https://colab.research.google.com/assets/colab-badge.svg\" alt=\"Open In Colab\"/></a>"
      ],
      "metadata": {
        "id": "TA5kKi-LY1xg"
      }
    },
    {
      "cell_type": "markdown",
      "source": [
        "# 第4章 課題"
      ],
      "metadata": {
        "id": "r-kcfL2yEU8b"
      }
    },
    {
      "cell_type": "markdown",
      "source": [
        "## 課題1"
      ],
      "metadata": {
        "id": "UqgRlaNaaWsU"
      }
    },
    {
      "cell_type": "markdown",
      "source": [
        "10から2800まで、10飛ばしの数を乱数で生成し、2220000に足してください。  \n",
        "\n",
        "この数を5つ生成し、一つのリストに格納した後、最終的に頭に\"b\"をつけて5つ出力してください。"
      ],
      "metadata": {
        "id": "dMngS2Dtai7U"
      }
    },
    {
      "cell_type": "code",
      "source": [],
      "metadata": {
        "id": "u2G4vWZdBxjt"
      },
      "execution_count": null,
      "outputs": []
    },
    {
      "cell_type": "markdown",
      "source": [
        "＜実行結果例＞\n",
        "``` py  \n",
        "['b2220400', 'b2221750', 'b2222480', 'b2221720', 'b2220380']\n",
        "```"
      ],
      "metadata": {
        "id": "Ys4Y3shObw3w"
      }
    },
    {
      "cell_type": "code",
      "source": [
        "#入力用\n",
        "import random\n",
        "\n",
        "list = []\n",
        "list = [random.randrange(10,2800,10) for i in range (5)]\n",
        "for i in range(5):\n",
        "  list[i] = list[i] + 2220000\n",
        "  list[i] = 'b' +str(list[i])\n",
        "print(list)"
      ],
      "metadata": {
        "id": "UaBFEY3Hdbsg",
        "colab": {
          "base_uri": "https://localhost:8080/"
        },
        "outputId": "abf5f965-49d4-41e7-c992-6025895daf0b"
      },
      "execution_count": null,
      "outputs": [
        {
          "output_type": "stream",
          "name": "stdout",
          "text": [
            "['b2220170', 'b2220680', 'b2221860', 'b2220480', 'b2221570']\n"
          ]
        }
      ]
    },
    {
      "cell_type": "markdown",
      "source": [
        "## 課題2"
      ],
      "metadata": {
        "id": "yRsfay5_8FuJ"
      }
    },
    {
      "cell_type": "markdown",
      "source": [
        "1桁の自然数を乱数を使って5つ格納した2つのリストを作ってください。  \n",
        "この時、一つのリスト内で5つの値が重複しないようにしてください\n",
        "\n",
        "その後、対応する要素を足し合わせた新しいリストを出力してください"
      ],
      "metadata": {
        "id": "4WbYBFGr8Ht3"
      }
    },
    {
      "cell_type": "markdown",
      "source": [
        "＜実行結果例＞\n",
        "``` py  \n",
        "1つ目のリスト：[1, 2, 3, 4, 5]  \n",
        "2つ目のリスト：[1, 3, 5, 7, 9]  \n",
        "足し合わせたリスト：[2, 5, 8, 11, 14]\n",
        "```"
      ],
      "metadata": {
        "id": "A0ImPPha84Nb"
      }
    },
    {
      "cell_type": "code",
      "source": [
        "# 入力用\n",
        "import random\n",
        "list1 = []\n",
        "while(len(list1)<5):\n",
        "  n = random.randrange(1,9)\n",
        "  if not n in list1:\n",
        "    list1.append(n)\n",
        "print(list1)\n",
        "list2 = []\n",
        "while(len(list2)<5):\n",
        "  n = random.randrange(1,9)\n",
        "  if not n in list1:\n",
        "    list2.append(n)\n",
        "print(list2)\n",
        "list3 = []\n",
        "for i in range(5):\n",
        "  sum = list1[i] + list2[i]\n",
        "  list3.append(sum)\n",
        "print(list3)"
      ],
      "metadata": {
        "id": "TaJm8jn2MHmk",
        "colab": {
          "base_uri": "https://localhost:8080/"
        },
        "outputId": "727973da-f317-4539-e187-4a9b65d1d928"
      },
      "execution_count": null,
      "outputs": [
        {
          "output_type": "stream",
          "name": "stdout",
          "text": [
            "[4, 6, 3, 8, 2]\n",
            "[7, 5, 7, 7, 5]\n",
            "[11, 11, 10, 15, 7]\n"
          ]
        }
      ]
    },
    {
      "cell_type": "markdown",
      "source": [
        "## 課題3"
      ],
      "metadata": {
        "id": "-qZw_n3X8xrW"
      }
    },
    {
      "cell_type": "markdown",
      "source": [
        "リストの中身を指定した数で分割してみます。\n",
        "\n",
        "以下のリストには都道府県47つが格納されています。"
      ],
      "metadata": {
        "id": "vxwATeobQf_U"
      }
    },
    {
      "cell_type": "code",
      "source": [
        "todohuken_list = [\n",
        "    '北海道', '青森県', '岩手県', '宮城県', '秋田県', '山形県', '福島県', '茨城県', '栃木県', '群馬県', \n",
        "    '埼玉県', '千葉県', '東京都', '神奈川県', '新潟県', '富山県', '石川県', '福井県', '山梨県', '長野県', \n",
        "    '岐阜県', '静岡県', '愛知県', '三重県', '滋賀県', '京都府', '大阪府', '兵庫県', '奈良県', '和歌山県', \n",
        "    '鳥取県', '島根県', '岡山県', '広島県', '山口県', '徳島県', '香川県', '愛媛県', '高知県',  '福岡県', \n",
        "    '佐賀県', '長崎県', '熊本県', '大分県', '宮崎県', '鹿児島県', '沖縄県',\n",
        "]"
      ],
      "metadata": {
        "id": "8ZdyRWbERGAY"
      },
      "execution_count": null,
      "outputs": []
    },
    {
      "cell_type": "markdown",
      "source": [
        "  \n",
        "これをランダムに1つのリストのサイズを4として分割してください"
      ],
      "metadata": {
        "id": "tGPa1uU6Qs2c"
      }
    },
    {
      "cell_type": "markdown",
      "source": [
        "＜実行結果例＞  \n",
        "``` py \n",
        "[['宮崎県', '茨城県', '栃木県', '千葉県'], … , ['岩手県', '滋賀県', '宮城県']]\n",
        "```"
      ],
      "metadata": {
        "id": "PWLTwz0TXzm_"
      }
    },
    {
      "cell_type": "code",
      "source": [
        "# 入力用\n",
        "todohuken_list = [\n",
        "    '北海道', '青森県', '岩手県', '宮城県', '秋田県', '山形県', '福島県', '茨城県', '栃木県', '群馬県', \n",
        "    '埼玉県', '千葉県', '東京都', '神奈川県', '新潟県', '富山県', '石川県', '福井県', '山梨県', '長野県', \n",
        "    '岐阜県', '静岡県', '愛知県', '三重県', '滋賀県', '京都府', '大阪府', '兵庫県', '奈良県', '和歌山県', \n",
        "    '鳥取県', '島根県', '岡山県', '広島県', '山口県', '徳島県', '香川県', '愛媛県', '高知県',  '福岡県', \n",
        "    '佐賀県', '長崎県', '熊本県', '大分県', '宮崎県', '鹿児島県', '沖縄県',\n",
        "]\n",
        "n = 4\n",
        "for i in range(0,47,4):\n",
        "  random.shuffle(todohuken_list)\n",
        "  print(todohuken_list[i:i+n])"
      ],
      "metadata": {
        "id": "rgPlOseCTC_h",
        "colab": {
          "base_uri": "https://localhost:8080/"
        },
        "outputId": "7faca567-b3d7-43bc-86cf-a20591493b9c"
      },
      "execution_count": null,
      "outputs": [
        {
          "output_type": "stream",
          "name": "stdout",
          "text": [
            "['広島県', '鹿児島県', '三重県', '栃木県']\n",
            "['長野県', '大阪府', '滋賀県', '沖縄県']\n",
            "['山梨県', '栃木県', '秋田県', '山口県']\n",
            "['大分県', '宮城県', '石川県', '三重県']\n",
            "['岩手県', '秋田県', '青森県', '愛媛県']\n",
            "['宮城県', '大分県', '山口県', '福井県']\n",
            "['熊本県', '静岡県', '鹿児島県', '徳島県']\n",
            "['神奈川県', '福井県', '大分県', '三重県']\n",
            "['神奈川県', '岩手県', '宮崎県', '青森県']\n",
            "['千葉県', '富山県', '岐阜県', '静岡県']\n",
            "['岐阜県', '宮城県', '北海道', '福島県']\n",
            "['福岡県', '沖縄県', '青森県']\n"
          ]
        }
      ]
    },
    {
      "cell_type": "markdown",
      "source": [
        "## 課題4"
      ],
      "metadata": {
        "id": "W573lh39MOlj"
      }
    },
    {
      "cell_type": "markdown",
      "source": [
        "ある大学の名前と年齢が、次のような形式で格納されたリスト `university_list` があります。"
      ],
      "metadata": {
        "id": "sSIMKY-aNcIx"
      }
    },
    {
      "cell_type": "code",
      "source": [
        "university_list = [\n",
        "    \"Chitose,25\",\n",
        "    \"Hokudai,105\",\n",
        "    \"Muroran,74\",\n",
        "    \"Hakodate,23\",\n",
        "]"
      ],
      "metadata": {
        "id": "v-wGyWuKK3wl"
      },
      "execution_count": null,
      "outputs": []
    },
    {
      "cell_type": "markdown",
      "source": [
        "このリストを、年齢順にソートして、新たなリストとして出力してください"
      ],
      "metadata": {
        "id": "XIxDf9QgO1iH"
      }
    },
    {
      "cell_type": "markdown",
      "source": [
        "＜実行結果＞  \n",
        "``` py\n",
        "['Chitose,25', 'Hokudai,105', 'Muroran,74', 'Hakodate,23']\n",
        "['Hakodate,23', 'Chitose,25', 'Muroran,74', 'Hokudai,105']\n",
        "```"
      ],
      "metadata": {
        "id": "0Z2-_1dAQENU"
      }
    },
    {
      "cell_type": "markdown",
      "source": [],
      "metadata": {
        "id": "RIOx03d-C11n"
      }
    },
    {
      "cell_type": "code",
      "source": [
        "# 入力用\n",
        "university_list = [\n",
        "    \"Chitose,25\",\n",
        "    \"Hokudai,105\",\n",
        "    \"Muroran,74\",\n",
        "    \"Hakodate,23\",\n",
        "]\n",
        "print(university_list)\n",
        "dict = {\"Chitose,25\":25,\"Hokudai,105\":105,\"Muroran,74\":74,\"Hakodate,23\":23,}\n",
        "y = sorted(dict.items(),key = lambda x:x[1])\n",
        "age_list = []\n",
        "for i in range(4):\n",
        "  z = y[i][0]\n",
        "  age_list.append(z)\n",
        "print(age_list)"
      ],
      "metadata": {
        "id": "ficNVfkgR5Kv",
        "colab": {
          "base_uri": "https://localhost:8080/"
        },
        "outputId": "523d9ce8-ab37-400a-b006-67dd492be362"
      },
      "execution_count": 5,
      "outputs": [
        {
          "output_type": "stream",
          "name": "stdout",
          "text": [
            "['Chitose,25', 'Hokudai,105', 'Muroran,74', 'Hakodate,23']\n",
            "[('Hakodate,23', 23), ('Chitose,25', 25), ('Muroran,74', 74), ('Hokudai,105', 105)]\n",
            "['Hakodate,23', 'Chitose,25', 'Muroran,74', 'Hokudai,105']\n"
          ]
        }
      ]
    },
    {
      "cell_type": "markdown",
      "source": [
        "## 課題5"
      ],
      "metadata": {
        "id": "QijnXk7UWAVC"
      }
    },
    {
      "cell_type": "markdown",
      "source": [
        "**FizzBuzz（フィズ・バズ）問題**という問題について解いていきます。\n",
        "\n",
        "もともとは、英語圏で長距離ドライブ中や飲み会の時に行われる言葉遊びです。"
      ],
      "metadata": {
        "id": "m7F47Q1mWCA6"
      }
    },
    {
      "cell_type": "markdown",
      "source": [],
      "metadata": {
        "id": "QG2aI0NwN7hQ"
      }
    },
    {
      "cell_type": "markdown",
      "source": [
        "以下のような問題になります。\n",
        "\n",
        "1～Nまでの整数を順に出力しなさい。ただし、例外として以下のルールを守ること。\n",
        "\n",
        "* 3で割り切れる数字の場合は\"Fizz\"を出力\n",
        "* 5で割り切れる数字の場合は\"Buzz\"を出力\n",
        "* どちらでも割り切れる数字の場合は\"FizzBuzz\"を出力"
      ],
      "metadata": {
        "id": "fArw0VcNWgwZ"
      }
    },
    {
      "cell_type": "markdown",
      "source": [
        "ここではN=100として、まずは一つのリストに\n",
        "\"Fizz\" か \"Buzz\" か \"FizzBuzz\" か \"others\" を格納してください。\n",
        "\n",
        "その後、それぞれの要素の数をカウントしてください。"
      ],
      "metadata": {
        "id": "SYqkpYstWm7Z"
      }
    },
    {
      "cell_type": "markdown",
      "source": [
        "＜実行結果＞  \n",
        "``` py\n",
        "FizzBuzzの数：6 \n",
        "Fizzの数：27 \n",
        "Buzzの数：14\n",
        "othersの数：53  \n",
        "```"
      ],
      "metadata": {
        "id": "OqLuJTcWYzFt"
      }
    },
    {
      "cell_type": "code",
      "source": [
        "# 入力用\n",
        "import random\n",
        "N = 100\n",
        "list = []\n",
        "for i in range(1,N+1):\n",
        "  print(i)\n",
        "  if(i%3 == 0 and i%5 ==0):\n",
        "    print('FizzBuzz')\n",
        "    list.append('FizzBuzz')\n",
        "  elif(i%3 == 0):\n",
        "    print('Fizz')\n",
        "    list.append('Fizz')\n",
        "  elif(i%5 == 0):\n",
        "    print('Buzz')\n",
        "    list.append('Buzz')\n",
        "  else:\n",
        "    print('others')\n",
        "    list.append('others')\n",
        "print(list)\n",
        "print('Fizzの数は',list.count('Fizz'))\n",
        "print('Buzzの数は',list.count('Buzz'))\n",
        "print('FizzBuzzの数は',list.count('FizzBuzz'))\n",
        "print('othersの数は',list.count('others'))"
      ],
      "metadata": {
        "id": "5kEDaVLmaEpb",
        "colab": {
          "base_uri": "https://localhost:8080/"
        },
        "outputId": "a2728128-0c5d-4a0e-ab92-48a499b3bcf8"
      },
      "execution_count": null,
      "outputs": [
        {
          "output_type": "stream",
          "name": "stdout",
          "text": [
            "1\n",
            "others\n",
            "2\n",
            "others\n",
            "3\n",
            "Fizz\n",
            "4\n",
            "others\n",
            "5\n",
            "Buzz\n",
            "6\n",
            "Fizz\n",
            "7\n",
            "others\n",
            "8\n",
            "others\n",
            "9\n",
            "Fizz\n",
            "10\n",
            "Buzz\n",
            "11\n",
            "others\n",
            "12\n",
            "Fizz\n",
            "13\n",
            "others\n",
            "14\n",
            "others\n",
            "15\n",
            "FizzBuzz\n",
            "16\n",
            "others\n",
            "17\n",
            "others\n",
            "18\n",
            "Fizz\n",
            "19\n",
            "others\n",
            "20\n",
            "Buzz\n",
            "21\n",
            "Fizz\n",
            "22\n",
            "others\n",
            "23\n",
            "others\n",
            "24\n",
            "Fizz\n",
            "25\n",
            "Buzz\n",
            "26\n",
            "others\n",
            "27\n",
            "Fizz\n",
            "28\n",
            "others\n",
            "29\n",
            "others\n",
            "30\n",
            "FizzBuzz\n",
            "31\n",
            "others\n",
            "32\n",
            "others\n",
            "33\n",
            "Fizz\n",
            "34\n",
            "others\n",
            "35\n",
            "Buzz\n",
            "36\n",
            "Fizz\n",
            "37\n",
            "others\n",
            "38\n",
            "others\n",
            "39\n",
            "Fizz\n",
            "40\n",
            "Buzz\n",
            "41\n",
            "others\n",
            "42\n",
            "Fizz\n",
            "43\n",
            "others\n",
            "44\n",
            "others\n",
            "45\n",
            "FizzBuzz\n",
            "46\n",
            "others\n",
            "47\n",
            "others\n",
            "48\n",
            "Fizz\n",
            "49\n",
            "others\n",
            "50\n",
            "Buzz\n",
            "51\n",
            "Fizz\n",
            "52\n",
            "others\n",
            "53\n",
            "others\n",
            "54\n",
            "Fizz\n",
            "55\n",
            "Buzz\n",
            "56\n",
            "others\n",
            "57\n",
            "Fizz\n",
            "58\n",
            "others\n",
            "59\n",
            "others\n",
            "60\n",
            "FizzBuzz\n",
            "61\n",
            "others\n",
            "62\n",
            "others\n",
            "63\n",
            "Fizz\n",
            "64\n",
            "others\n",
            "65\n",
            "Buzz\n",
            "66\n",
            "Fizz\n",
            "67\n",
            "others\n",
            "68\n",
            "others\n",
            "69\n",
            "Fizz\n",
            "70\n",
            "Buzz\n",
            "71\n",
            "others\n",
            "72\n",
            "Fizz\n",
            "73\n",
            "others\n",
            "74\n",
            "others\n",
            "75\n",
            "FizzBuzz\n",
            "76\n",
            "others\n",
            "77\n",
            "others\n",
            "78\n",
            "Fizz\n",
            "79\n",
            "others\n",
            "80\n",
            "Buzz\n",
            "81\n",
            "Fizz\n",
            "82\n",
            "others\n",
            "83\n",
            "others\n",
            "84\n",
            "Fizz\n",
            "85\n",
            "Buzz\n",
            "86\n",
            "others\n",
            "87\n",
            "Fizz\n",
            "88\n",
            "others\n",
            "89\n",
            "others\n",
            "90\n",
            "FizzBuzz\n",
            "91\n",
            "others\n",
            "92\n",
            "others\n",
            "93\n",
            "Fizz\n",
            "94\n",
            "others\n",
            "95\n",
            "Buzz\n",
            "96\n",
            "Fizz\n",
            "97\n",
            "others\n",
            "98\n",
            "others\n",
            "99\n",
            "Fizz\n",
            "100\n",
            "Buzz\n",
            "['others', 'others', 'Fizz', 'others', 'Buzz', 'Fizz', 'others', 'others', 'Fizz', 'Buzz', 'others', 'Fizz', 'others', 'others', 'FizzBuzz', 'others', 'others', 'Fizz', 'others', 'Buzz', 'Fizz', 'others', 'others', 'Fizz', 'Buzz', 'others', 'Fizz', 'others', 'others', 'FizzBuzz', 'others', 'others', 'Fizz', 'others', 'Buzz', 'Fizz', 'others', 'others', 'Fizz', 'Buzz', 'others', 'Fizz', 'others', 'others', 'FizzBuzz', 'others', 'others', 'Fizz', 'others', 'Buzz', 'Fizz', 'others', 'others', 'Fizz', 'Buzz', 'others', 'Fizz', 'others', 'others', 'FizzBuzz', 'others', 'others', 'Fizz', 'others', 'Buzz', 'Fizz', 'others', 'others', 'Fizz', 'Buzz', 'others', 'Fizz', 'others', 'others', 'FizzBuzz', 'others', 'others', 'Fizz', 'others', 'Buzz', 'Fizz', 'others', 'others', 'Fizz', 'Buzz', 'others', 'Fizz', 'others', 'others', 'FizzBuzz', 'others', 'others', 'Fizz', 'others', 'Buzz', 'Fizz', 'others', 'others', 'Fizz', 'Buzz']\n",
            "Fizzの数は 27\n",
            "Buzzの数は 14\n",
            "FizzBuzzの数は 6\n",
            "othersの数は 53\n"
          ]
        }
      ]
    }
  ]
}