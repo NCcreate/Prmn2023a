{
  "nbformat": 4,
  "nbformat_minor": 0,
  "metadata": {
    "colab": {
      "provenance": [],
      "toc_visible": true,
      "include_colab_link": true
    },
    "kernelspec": {
      "name": "python3",
      "display_name": "Python 3"
    },
    "language_info": {
      "name": "python"
    }
  },
  "cells": [
    {
      "cell_type": "markdown",
      "metadata": {
        "id": "view-in-github",
        "colab_type": "text"
      },
      "source": [
        "<a href=\"https://colab.research.google.com/github/NCcreate/Prmn2023a/blob/main/PythonBasic_2_Question_(1).ipynb\" target=\"_parent\"><img src=\"https://colab.research.google.com/assets/colab-badge.svg\" alt=\"Open In Colab\"/></a>"
      ]
    },
    {
      "cell_type": "markdown",
      "source": [
        "# 第2章 課題"
      ],
      "metadata": {
        "id": "C44SsXDACtHu"
      }
    },
    {
      "cell_type": "markdown",
      "source": [
        "## 課題1"
      ],
      "metadata": {
        "id": "OnkezWHRCwr9"
      }
    },
    {
      "cell_type": "markdown",
      "source": [
        "for文を使って、以下のように出力してください"
      ],
      "metadata": {
        "id": "q32rK-cECzCl"
      }
    },
    {
      "cell_type": "markdown",
      "source": [
        "![oSFeQoX.png](https://i.imgur.com/oSFeQoX.png)"
      ],
      "metadata": {
        "id": "FxMcxznVB6cI"
      }
    },
    {
      "cell_type": "code",
      "source": [
        "# 入力用\n",
        "for i in range(1,5):\n",
        "  x=4-i\n",
        "  y=2*i-1\n",
        "  print(' '*x,'*'*y)"
      ],
      "metadata": {
        "id": "iBFSsrdRC5Zt",
        "colab": {
          "base_uri": "https://localhost:8080/"
        },
        "outputId": "53267e6a-6672-4327-aae4-025a74588829"
      },
      "execution_count": null,
      "outputs": [
        {
          "output_type": "stream",
          "name": "stdout",
          "text": [
            "    *\n",
            "   ***\n",
            "  *****\n",
            " *******\n"
          ]
        }
      ]
    },
    {
      "cell_type": "markdown",
      "source": [
        "## 課題2"
      ],
      "metadata": {
        "id": "gIn-UqGTCagu"
      }
    },
    {
      "cell_type": "markdown",
      "source": [
        "課題1の場合を`n=4`として、nを自分で設定して出力できるようにしてください"
      ],
      "metadata": {
        "id": "ltdiEdqYDFy8"
      }
    },
    {
      "cell_type": "markdown",
      "source": [
        "＜例＞ n=5の場合  \n",
        "![o5NjugQ.png](https://imgur.com/o5NjugQ.png)"
      ],
      "metadata": {
        "id": "hw0FM8BRDHz1"
      }
    },
    {
      "cell_type": "code",
      "source": [
        "# 入力用\n",
        "n=int(input())\n",
        "for i in range(1,n+1):\n",
        "  x=n-i\n",
        "  y=2*i-1\n",
        "  print(' '*x,'*'*y)"
      ],
      "metadata": {
        "id": "upd76Tv-FrIB",
        "colab": {
          "base_uri": "https://localhost:8080/"
        },
        "outputId": "487df7da-5c65-489b-f334-e071698f692c"
      },
      "execution_count": null,
      "outputs": [
        {
          "output_type": "stream",
          "name": "stdout",
          "text": [
            "5\n",
            "     *\n",
            "    ***\n",
            "   *****\n",
            "  *******\n",
            " *********\n"
          ]
        }
      ]
    },
    {
      "cell_type": "markdown",
      "source": [
        "## 課題3"
      ],
      "metadata": {
        "id": "tLMJvwBDE7wT"
      }
    },
    {
      "cell_type": "markdown",
      "source": [
        "for文を使って、以下のように出力してください"
      ],
      "metadata": {
        "id": "vZNvWsG7E99q"
      }
    },
    {
      "cell_type": "markdown",
      "source": [
        "![oSirXec.png](https://imgur.com/oSirXec.png)"
      ],
      "metadata": {
        "id": "ijOV-ilXGDNR"
      }
    },
    {
      "cell_type": "code",
      "source": [
        "# 入力用\n",
        "for i in range(1,5):\n",
        "  x=4-i\n",
        "  y=2*i-1\n",
        "  print(' '*x,'*'*y)\n",
        "for j in range(4,1,-1):\n",
        "  x=5-j\n",
        "  y=(j-1)*2-1\n",
        "  print(' '*x,'*'*y)"
      ],
      "metadata": {
        "id": "Q5Ob9uZpGIE3",
        "colab": {
          "base_uri": "https://localhost:8080/"
        },
        "outputId": "5e9c05e8-f819-4331-fd85-4de955b4a652"
      },
      "execution_count": null,
      "outputs": [
        {
          "output_type": "stream",
          "name": "stdout",
          "text": [
            "    *\n",
            "   ***\n",
            "  *****\n",
            " *******\n",
            "  *****\n",
            "   ***\n",
            "    *\n"
          ]
        }
      ]
    },
    {
      "cell_type": "markdown",
      "source": [
        "## 課題4"
      ],
      "metadata": {
        "id": "Oh7whOPkGQ3I"
      }
    },
    {
      "cell_type": "markdown",
      "source": [
        "課題3の場合を`n=4`として、nを自分で設定して出力できるようにしてください"
      ],
      "metadata": {
        "id": "PnvT8MQbGS03"
      }
    },
    {
      "cell_type": "markdown",
      "source": [
        "＜例＞ n=5の場合  \n",
        "\n",
        "![my4J17V.png](https://i.imgur.com/my4J17V.png)"
      ],
      "metadata": {
        "id": "ZujkAbVMGzhn"
      }
    },
    {
      "cell_type": "code",
      "source": [
        "# 入力用\n",
        "n=int(input())\n",
        "for i in range(1,n+1):\n",
        "  x=n-i\n",
        "  y=2*i-1\n",
        "  print(' '*x,'*'*y)\n",
        "for j in range(n,1,-1):\n",
        "  x=n+1-j\n",
        "  y=(j-1)*2-1\n",
        "  print(' '*x,'*'*y)"
      ],
      "metadata": {
        "id": "hCFNQ7mWG99u",
        "colab": {
          "base_uri": "https://localhost:8080/"
        },
        "outputId": "cd93743e-00a8-411a-8123-e28fe0c5fa58"
      },
      "execution_count": null,
      "outputs": [
        {
          "output_type": "stream",
          "name": "stdout",
          "text": [
            "5\n",
            "     *\n",
            "    ***\n",
            "   *****\n",
            "  *******\n",
            " *********\n",
            "  *******\n",
            "   *****\n",
            "    ***\n",
            "     *\n"
          ]
        }
      ]
    },
    {
      "cell_type": "markdown",
      "source": [
        "## 課題5"
      ],
      "metadata": {
        "id": "R2MvOK4wHJlK"
      }
    },
    {
      "cell_type": "markdown",
      "source": [
        "for文を使って、以下のように出力してください"
      ],
      "metadata": {
        "id": "ddMIUoaKHcwd"
      }
    },
    {
      "cell_type": "markdown",
      "source": [
        "![vDUi5eM.png](https://imgur.com/vDUi5eM.png)"
      ],
      "metadata": {
        "id": "CD1cVUlWHLVO"
      }
    },
    {
      "cell_type": "code",
      "source": [
        "# 入力用\n",
        "for i in range(1,5):\n",
        "  if(i==4):\n",
        "    x=4-i\n",
        "    y=2*i-1\n",
        "    print(' '*x+'*'*y+'*'*(y-1))\n",
        "  else:\n",
        "    x=4-i\n",
        "    y=2*i-1\n",
        "    z=-2*i+7\n",
        "    print(' '*x+'*'*y+' '*z+'*'*y)\n",
        "for j in range(4,1,-1):\n",
        "  x=5-j\n",
        "  y=(j-1)*2-1\n",
        "  z=-2*j+9\n",
        "  print(' '*x+'*'*y+' '*z+'*'*y)"
      ],
      "metadata": {
        "id": "1pDkfJpUHd93",
        "colab": {
          "base_uri": "https://localhost:8080/"
        },
        "outputId": "77dd9190-3fc7-4d31-a873-6ffa574bea91"
      },
      "execution_count": null,
      "outputs": [
        {
          "output_type": "stream",
          "name": "stdout",
          "text": [
            "   *     *\n",
            "  ***   ***\n",
            " ***** *****\n",
            "*************\n",
            " ***** *****\n",
            "  ***   ***\n",
            "   *     *\n"
          ]
        }
      ]
    },
    {
      "cell_type": "markdown",
      "source": [
        "## 課題6"
      ],
      "metadata": {
        "id": "oubbafOBHerl"
      }
    },
    {
      "cell_type": "markdown",
      "source": [
        "課題5の場合を`n=4`として、nを自分で設定して出力できるようにしてください"
      ],
      "metadata": {
        "id": "7SzgFdC-HzG9"
      }
    },
    {
      "cell_type": "markdown",
      "source": [
        "＜例＞ n=5の場合  \n",
        "\n",
        "![udkVlYG.png](https://imgur.com/udkVlYG.png)"
      ],
      "metadata": {
        "id": "LY8g9PVPH2OW"
      }
    },
    {
      "cell_type": "code",
      "source": [
        "# 入力用\n",
        "n=int(input())\n",
        "for i in range(1,n+1):\n",
        "  if(i==n):\n",
        "    x=n-i\n",
        "    y=2*i-1\n",
        "    print(' '*x+'*'*y+'*'*(y-1))\n",
        "  else:\n",
        "    x=n-i\n",
        "    y=2*i-1\n",
        "    z=-2*i+(2*n-1)\n",
        "    print(' '*x+'*'*y+' '*z+'*'*y)\n",
        "for j in range(n,1,-1):\n",
        "  x=(n+1)-j\n",
        "  y=(j-1)*2-1\n",
        "  z=-2*j+(2*n+1)\n",
        "  print(' '*x+'*'*y+' '*z+'*'*y)"
      ],
      "metadata": {
        "id": "XZOK5ulbH-tu",
        "colab": {
          "base_uri": "https://localhost:8080/"
        },
        "outputId": "2e108c76-46fa-44ef-c7f1-ad2b607ef1eb"
      },
      "execution_count": null,
      "outputs": [
        {
          "output_type": "stream",
          "name": "stdout",
          "text": [
            "5\n",
            "    *       *\n",
            "   ***     ***\n",
            "  *****   *****\n",
            " ******* *******\n",
            "*****************\n",
            " ******* *******\n",
            "  *****   *****\n",
            "   ***     ***\n",
            "    *       *\n"
          ]
        }
      ]
    },
    {
      "cell_type": "markdown",
      "source": [
        "## 課題7"
      ],
      "metadata": {
        "id": "ouqTUmPQIKGF"
      }
    },
    {
      "cell_type": "markdown",
      "source": [
        "for文を使って、以下のように出力してください"
      ],
      "metadata": {
        "id": "WHSxdOHuIMRM"
      }
    },
    {
      "cell_type": "markdown",
      "source": [
        "![IuP0M16.png](https://imgur.com/IuP0M16.png)"
      ],
      "metadata": {
        "id": "-G--WFTkIM8s"
      }
    },
    {
      "cell_type": "code",
      "source": [
        "# 入力用\n",
        "for i in range(1,5):\n",
        "  if(i==4):\n",
        "    x=4-i\n",
        "    y=2*i-1\n",
        "    print(' '*x+'*'*y+'*'*(y-1))\n",
        "  else:\n",
        "    x=4-i\n",
        "    y=2*i-1\n",
        "    z=-2*i+7\n",
        "    print(' '*x+'*'*y+' '*z+'*'*y)\n",
        "for j in range(4,1,-1):\n",
        "  x=5-j\n",
        "  y=(j-1)*2-1\n",
        "  z=-2*j+9\n",
        "  print(' '*x+'*'*y+' '*z+'*'*y)\n",
        "for i in range(2,5):\n",
        "  if(i==4):\n",
        "    x=4-i\n",
        "    y=2*i-1\n",
        "    print(' '*x+'*'*y+'*'*(y-1))\n",
        "  else:\n",
        "    x=4-i\n",
        "    y=2*i-1\n",
        "    z=-2*i+7\n",
        "    print(' '*x+'*'*y+' '*z+'*'*y)\n",
        "for j in range(4,1,-1):\n",
        "  x=5-j\n",
        "  y=(j-1)*2-1\n",
        "  z=-2*j+9\n",
        "  print(' '*x+'*'*y+' '*z+'*'*y)"
      ],
      "metadata": {
        "id": "BVXjDteuIijL",
        "colab": {
          "base_uri": "https://localhost:8080/"
        },
        "outputId": "0095eadf-ad0f-4ee6-d307-c26d240a31f5"
      },
      "execution_count": null,
      "outputs": [
        {
          "output_type": "stream",
          "name": "stdout",
          "text": [
            "   *     *\n",
            "  ***   ***\n",
            " ***** *****\n",
            "*************\n",
            " ***** *****\n",
            "  ***   ***\n",
            "   *     *\n",
            "  ***   ***\n",
            " ***** *****\n",
            "*************\n",
            " ***** *****\n",
            "  ***   ***\n",
            "   *     *\n"
          ]
        }
      ]
    },
    {
      "cell_type": "markdown",
      "source": [
        "## 課題8"
      ],
      "metadata": {
        "id": "31u0ExX2IjWj"
      }
    },
    {
      "cell_type": "markdown",
      "source": [
        "課題7の場合を`n=4`として、nを自分で設定して出力できるようにしてください"
      ],
      "metadata": {
        "id": "zeOvmKarInpz"
      }
    },
    {
      "cell_type": "markdown",
      "source": [
        "＜例＞ n=5の場合  \n",
        "\n",
        "![AlTnu1k.png](https://imgur.com/AlTnu1k.png)"
      ],
      "metadata": {
        "id": "2uLR5sbKIov2"
      }
    },
    {
      "cell_type": "code",
      "source": [
        "# 入力用\n",
        "n=int(input())\n",
        "for i in range(1,n+1):\n",
        "  if(i==n):\n",
        "    x=n-i\n",
        "    y=2*i-1\n",
        "    print(' '*x+'*'*y+'*'*(y-1))\n",
        "  else:\n",
        "    x=n-i\n",
        "    y=2*i-1\n",
        "    z=-2*i+(2*n-1)\n",
        "    print(' '*x+'*'*y+' '*z+'*'*y)\n",
        "for j in range(n,1,-1):\n",
        "  x=(n+1)-j\n",
        "  y=(j-1)*2-1\n",
        "  z=-2*j+(2*n+1)\n",
        "  print(' '*x+'*'*y+' '*z+'*'*y)\n",
        "for i in range(2,n+1):\n",
        "  if(i==n):\n",
        "    x=n-i\n",
        "    y=2*i-1\n",
        "    print(' '*x+'*'*y+'*'*(y-1))\n",
        "  else:\n",
        "    x=n-i\n",
        "    y=2*i-1\n",
        "    z=-2*i+(2*n-1)\n",
        "    print(' '*x+'*'*y+' '*z+'*'*y)\n",
        "for j in range(n,1,-1):\n",
        "  x=(n+1)-j\n",
        "  y=(j-1)*2-1\n",
        "  z=-2*j+(2*n+1)\n",
        "  print(' '*x+'*'*y+' '*z+'*'*y)"
      ],
      "metadata": {
        "id": "TXJaIVbYI_Cd",
        "colab": {
          "base_uri": "https://localhost:8080/"
        },
        "outputId": "11723200-46d4-46bc-ccfe-c2bc6f659428"
      },
      "execution_count": null,
      "outputs": [
        {
          "output_type": "stream",
          "name": "stdout",
          "text": [
            "5\n",
            "    *       *\n",
            "   ***     ***\n",
            "  *****   *****\n",
            " ******* *******\n",
            "*****************\n",
            " ******* *******\n",
            "  *****   *****\n",
            "   ***     ***\n",
            "    *       *\n",
            "   ***     ***\n",
            "  *****   *****\n",
            " ******* *******\n",
            "*****************\n",
            " ******* *******\n",
            "  *****   *****\n",
            "   ***     ***\n",
            "    *       *\n"
          ]
        }
      ]
    }
  ]
}